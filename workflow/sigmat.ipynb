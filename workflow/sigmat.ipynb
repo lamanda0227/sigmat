{
 "cells": [
  {
   "cell_type": "markdown",
   "id": "14e727ee-0474-40c4-9ce6-6dc51b35c204",
   "metadata": {
    "kernel": "SoS",
    "tags": []
   },
   "source": [
    "# Signature Matrix Generation\n",
    "\n",
    "This notebook documents steps used to generate a siganture matrix of scRNA-seq data for CIBERSORTx.\n",
    "\n",
    "Revelant links:\n",
    "1. The CIBERSORTx paper describing the workflow for deconvolution that uses the signature matrix: https://www.ncbi.nlm.nih.gov/pmc/articles/PMC7695353/\n",
    "\n",
    "2. The publication with reference snRNAseq  data for nucleus accumbens: https://www.sciencedirect.com/science/article/pii/S0896627321006553\n",
    "\n",
    "3. The link to their deposited reference data: https://github.com/LieberInstitute/10xPilot_snRNAseq-human#readme\n",
    "\n",
    "4. Source code for Seurat function that builds a signature matrix: https://rdrr.io/github/PelzKo/dwls/man/buildSignatureMatrixUsingSeruat.html\n",
    "\n",
    "5. An alternative R package for building signature matrices: https://github.com/ruppinlab/scSigR\n"
   ]
  },
  {
   "cell_type": "markdown",
   "id": "97f78da5-cb4f-4f68-bc6e-799866dcb478",
   "metadata": {
    "kernel": "SoS"
   },
   "source": [
    "## 1. Download data\n",
    "\n",
    "The data downloaded are [processed data](https://github.com/LieberInstitute/10xPilot_snRNAseq-human?tab=readme-ov-file#processed-data). They are in the format of corresponding SingleCellExperiment R/Bioconductor objects (with reducedDims, annotations, etc.) for each of the five regions across eight donors:\n",
    "\n",
    "-  AMY\n",
    "- DLPFC\n",
    "- HPC\n",
    "- NAc\n",
    "- sACC"
   ]
  },
  {
   "cell_type": "code",
   "execution_count": 1,
   "id": "5be2b683-125c-4526-aea5-051d1bb05510",
   "metadata": {
    "kernel": "Bash",
    "tags": []
   },
   "outputs": [],
   "source": [
    "cd ~/project/git/sigmat/data/\n",
    "wget https://libd-snrnaseq-pilot.s3.us-east-2.amazonaws.com/SCE_NAc-n8_tran-etal.rda"
   ]
  },
  {
   "cell_type": "markdown",
   "id": "8d3ac956-2239-44be-a42a-84473b380f61",
   "metadata": {
    "kernel": "SoS"
   },
   "source": [
    "## 2. Data inspection"
   ]
  },
  {
   "cell_type": "code",
   "execution_count": 2,
   "id": "8a3f292b-dbe8-48b4-9804-4ddbc6c29d17",
   "metadata": {
    "collapsed": true,
    "jupyter": {
     "outputs_hidden": true
    },
    "kernel": "R",
    "tags": []
   },
   "outputs": [
    {
     "name": "stderr",
     "output_type": "stream",
     "text": [
      "Loading required package: SummarizedExperiment\n",
      "\n",
      "Loading required package: MatrixGenerics\n",
      "\n",
      "Loading required package: matrixStats\n",
      "\n",
      "\n",
      "Attaching package: ‘MatrixGenerics’\n",
      "\n",
      "\n",
      "The following objects are masked from ‘package:matrixStats’:\n",
      "\n",
      "    colAlls, colAnyNAs, colAnys, colAvgsPerRowSet, colCollapse,\n",
      "    colCounts, colCummaxs, colCummins, colCumprods, colCumsums,\n",
      "    colDiffs, colIQRDiffs, colIQRs, colLogSumExps, colMadDiffs,\n",
      "    colMads, colMaxs, colMeans2, colMedians, colMins, colOrderStats,\n",
      "    colProds, colQuantiles, colRanges, colRanks, colSdDiffs, colSds,\n",
      "    colSums2, colTabulates, colVarDiffs, colVars, colWeightedMads,\n",
      "    colWeightedMeans, colWeightedMedians, colWeightedSds,\n",
      "    colWeightedVars, rowAlls, rowAnyNAs, rowAnys, rowAvgsPerColSet,\n",
      "    rowCollapse, rowCounts, rowCummaxs, rowCummins, rowCumprods,\n",
      "    rowCumsums, rowDiffs, rowIQRDiffs, rowIQRs, rowLogSumExps,\n",
      "    rowMadDiffs, rowMads, rowMaxs, rowMeans2, rowMedians, rowMins,\n",
      "    rowOrderStats, rowProds, rowQuantiles, rowRanges, rowRanks,\n",
      "    rowSdDiffs, rowSds, rowSums2, rowTabulates, rowVarDiffs, rowVars,\n",
      "    rowWeightedMads, rowWeightedMeans, rowWeightedMedians,\n",
      "    rowWeightedSds, rowWeightedVars\n",
      "\n",
      "\n",
      "Loading required package: GenomicRanges\n",
      "\n",
      "Loading required package: stats4\n",
      "\n",
      "Loading required package: BiocGenerics\n",
      "\n",
      "\n",
      "Attaching package: ‘BiocGenerics’\n",
      "\n",
      "\n",
      "The following objects are masked from ‘package:stats’:\n",
      "\n",
      "    IQR, mad, sd, var, xtabs\n",
      "\n",
      "\n",
      "The following objects are masked from ‘package:base’:\n",
      "\n",
      "    anyDuplicated, aperm, append, as.data.frame, basename, cbind,\n",
      "    colnames, dirname, do.call, duplicated, eval, evalq, Filter, Find,\n",
      "    get, grep, grepl, intersect, is.unsorted, lapply, Map, mapply,\n",
      "    match, mget, order, paste, pmax, pmax.int, pmin, pmin.int,\n",
      "    Position, rank, rbind, Reduce, rownames, sapply, setdiff, sort,\n",
      "    table, tapply, union, unique, unsplit, which.max, which.min\n",
      "\n",
      "\n",
      "Loading required package: S4Vectors\n",
      "\n",
      "\n",
      "Attaching package: ‘S4Vectors’\n",
      "\n",
      "\n",
      "The following objects are masked from ‘package:base’:\n",
      "\n",
      "    expand.grid, I, unname\n",
      "\n",
      "\n",
      "Loading required package: IRanges\n",
      "\n",
      "Loading required package: GenomeInfoDb\n",
      "\n",
      "Loading required package: Biobase\n",
      "\n",
      "Welcome to Bioconductor\n",
      "\n",
      "    Vignettes contain introductory material; view with\n",
      "    'browseVignettes()'. To cite Bioconductor, see\n",
      "    'citation(\"Biobase\")', and for packages 'citation(\"pkgname\")'.\n",
      "\n",
      "\n",
      "\n",
      "Attaching package: ‘Biobase’\n",
      "\n",
      "\n",
      "The following object is masked from ‘package:MatrixGenerics’:\n",
      "\n",
      "    rowMedians\n",
      "\n",
      "\n",
      "The following objects are masked from ‘package:matrixStats’:\n",
      "\n",
      "    anyMissing, rowMedians\n",
      "\n",
      "\n",
      "\n",
      "Attaching package: ‘dplyr’\n",
      "\n",
      "\n",
      "The following object is masked from ‘package:Biobase’:\n",
      "\n",
      "    combine\n",
      "\n",
      "\n",
      "The following objects are masked from ‘package:GenomicRanges’:\n",
      "\n",
      "    intersect, setdiff, union\n",
      "\n",
      "\n",
      "The following object is masked from ‘package:GenomeInfoDb’:\n",
      "\n",
      "    intersect\n",
      "\n",
      "\n",
      "The following objects are masked from ‘package:IRanges’:\n",
      "\n",
      "    collapse, desc, intersect, setdiff, slice, union\n",
      "\n",
      "\n",
      "The following objects are masked from ‘package:S4Vectors’:\n",
      "\n",
      "    first, intersect, rename, setdiff, setequal, union\n",
      "\n",
      "\n",
      "The following objects are masked from ‘package:BiocGenerics’:\n",
      "\n",
      "    combine, intersect, setdiff, union\n",
      "\n",
      "\n",
      "The following object is masked from ‘package:matrixStats’:\n",
      "\n",
      "    count\n",
      "\n",
      "\n",
      "The following objects are masked from ‘package:stats’:\n",
      "\n",
      "    filter, lag\n",
      "\n",
      "\n",
      "The following objects are masked from ‘package:base’:\n",
      "\n",
      "    intersect, setdiff, setequal, union\n",
      "\n",
      "\n",
      "Loading required package: SeuratObject\n",
      "\n",
      "Loading required package: sp\n",
      "\n",
      "\n",
      "Attaching package: ‘sp’\n",
      "\n",
      "\n",
      "The following object is masked from ‘package:IRanges’:\n",
      "\n",
      "    %over%\n",
      "\n",
      "\n",
      "‘SeuratObject’ was built with package ‘Matrix’ 1.6.3 but the current\n",
      "version is 1.6.5; it is recomended that you reinstall ‘SeuratObject’ as\n",
      "the ABI for ‘Matrix’ may have changed\n",
      "\n",
      "\n",
      "Attaching package: ‘SeuratObject’\n",
      "\n",
      "\n",
      "The following object is masked from ‘package:SummarizedExperiment’:\n",
      "\n",
      "    Assays\n",
      "\n",
      "\n",
      "The following object is masked from ‘package:GenomicRanges’:\n",
      "\n",
      "    intersect\n",
      "\n",
      "\n",
      "The following object is masked from ‘package:GenomeInfoDb’:\n",
      "\n",
      "    intersect\n",
      "\n",
      "\n",
      "The following object is masked from ‘package:IRanges’:\n",
      "\n",
      "    intersect\n",
      "\n",
      "\n",
      "The following object is masked from ‘package:S4Vectors’:\n",
      "\n",
      "    intersect\n",
      "\n",
      "\n",
      "The following object is masked from ‘package:BiocGenerics’:\n",
      "\n",
      "    intersect\n",
      "\n",
      "\n",
      "The following object is masked from ‘package:base’:\n",
      "\n",
      "    intersect\n",
      "\n",
      "\n",
      "\n",
      "Attaching package: ‘Seurat’\n",
      "\n",
      "\n",
      "The following object is masked from ‘package:SummarizedExperiment’:\n",
      "\n",
      "    Assays\n",
      "\n",
      "\n"
     ]
    }
   ],
   "source": [
    "setwd(\"~/project/git/sigmat/\")\n",
    "\n",
    "library(SingleCellExperiment)\n",
    "library(dplyr)\n",
    "library(Seurat)"
   ]
  },
  {
   "cell_type": "code",
   "execution_count": 3,
   "id": "6e7f9776-589f-4dd4-9504-6a8fe1dc9e01",
   "metadata": {
    "kernel": "R",
    "tags": []
   },
   "outputs": [
    {
     "data": {
      "text/html": [
       "<style>\n",
       ".list-inline {list-style: none; margin:0; padding: 0}\n",
       ".list-inline>li {display: inline-block}\n",
       ".list-inline>li:not(:last-child)::after {content: \"\\00b7\"; padding: 0 .5ex}\n",
       "</style>\n",
       "<ol class=list-inline><li>'PATH'</li><li>'sce.nac.tran'</li></ol>\n"
      ],
      "text/latex": [
       "\\begin{enumerate*}\n",
       "\\item 'PATH'\n",
       "\\item 'sce.nac.tran'\n",
       "\\end{enumerate*}\n"
      ],
      "text/markdown": [
       "1. 'PATH'\n",
       "2. 'sce.nac.tran'\n",
       "\n",
       "\n"
      ],
      "text/plain": [
       "[1] \"PATH\"         \"sce.nac.tran\""
      ]
     },
     "metadata": {},
     "output_type": "display_data"
    }
   ],
   "source": [
    "load(\"./data/SCE_NAc-n8_tran-etal.rda\")\n",
    "ls()"
   ]
  },
  {
   "cell_type": "code",
   "execution_count": 5,
   "id": "136d3cdc-cdba-4935-89a0-2cd4025a2125",
   "metadata": {
    "kernel": "R",
    "tags": []
   },
   "outputs": [
    {
     "data": {
      "text/html": [
       "<style>\n",
       ".list-inline {list-style: none; margin:0; padding: 0}\n",
       ".list-inline>li {display: inline-block}\n",
       ".list-inline>li:not(:last-child)::after {content: \"\\00b7\"; padding: 0 .5ex}\n",
       "</style>\n",
       "<ol class=list-inline><li>20571</li><li>14</li></ol>\n"
      ],
      "text/latex": [
       "\\begin{enumerate*}\n",
       "\\item 20571\n",
       "\\item 14\n",
       "\\end{enumerate*}\n"
      ],
      "text/markdown": [
       "1. 20571\n",
       "2. 14\n",
       "\n",
       "\n"
      ],
      "text/plain": [
       "[1] 20571    14"
      ]
     },
     "metadata": {},
     "output_type": "display_data"
    },
    {
     "data": {
      "text/html": [
       "<style>\n",
       ".list-inline {list-style: none; margin:0; padding: 0}\n",
       ".list-inline>li {display: inline-block}\n",
       ".list-inline>li:not(:last-child)::after {content: \"\\00b7\"; padding: 0 .5ex}\n",
       "</style>\n",
       "<ol class=list-inline><li>'Barcode'</li><li>'sum'</li><li>'detected'</li><li>'doubletScore'</li><li>'region'</li><li>'donor'</li><li>'sex'</li><li>'processBatch'</li><li>'protocol'</li><li>'sequencer'</li><li>'sizeFactor'</li><li>'prelimCluster'</li><li>'collapsedCluster'</li><li>'cellType'</li></ol>\n"
      ],
      "text/latex": [
       "\\begin{enumerate*}\n",
       "\\item 'Barcode'\n",
       "\\item 'sum'\n",
       "\\item 'detected'\n",
       "\\item 'doubletScore'\n",
       "\\item 'region'\n",
       "\\item 'donor'\n",
       "\\item 'sex'\n",
       "\\item 'processBatch'\n",
       "\\item 'protocol'\n",
       "\\item 'sequencer'\n",
       "\\item 'sizeFactor'\n",
       "\\item 'prelimCluster'\n",
       "\\item 'collapsedCluster'\n",
       "\\item 'cellType'\n",
       "\\end{enumerate*}\n"
      ],
      "text/markdown": [
       "1. 'Barcode'\n",
       "2. 'sum'\n",
       "3. 'detected'\n",
       "4. 'doubletScore'\n",
       "5. 'region'\n",
       "6. 'donor'\n",
       "7. 'sex'\n",
       "8. 'processBatch'\n",
       "9. 'protocol'\n",
       "10. 'sequencer'\n",
       "11. 'sizeFactor'\n",
       "12. 'prelimCluster'\n",
       "13. 'collapsedCluster'\n",
       "14. 'cellType'\n",
       "\n",
       "\n"
      ],
      "text/plain": [
       " [1] \"Barcode\"          \"sum\"              \"detected\"         \"doubletScore\"    \n",
       " [5] \"region\"           \"donor\"            \"sex\"              \"processBatch\"    \n",
       " [9] \"protocol\"         \"sequencer\"        \"sizeFactor\"       \"prelimCluster\"   \n",
       "[13] \"collapsedCluster\" \"cellType\"        "
      ]
     },
     "metadata": {},
     "output_type": "display_data"
    },
    {
     "data": {
      "text/html": [
       "<style>\n",
       ".list-inline {list-style: none; margin:0; padding: 0}\n",
       ".list-inline>li {display: inline-block}\n",
       ".list-inline>li:not(:last-child)::after {content: \"\\00b7\"; padding: 0 .5ex}\n",
       "</style>\n",
       "<ol class=list-inline><li>'donor1_AAACCCACATCGAACT.1'</li><li>'donor1_AAACCCATCCAACCAA.1'</li><li>'donor1_AAACGAACAATGACCT.1'</li><li>'donor1_AAACGAATCACGAGGA.1'</li><li>'donor1_AAACGCTAGGTTGAGC.1'</li><li>'donor1_AAACGCTCACTGCATA.1'</li></ol>\n"
      ],
      "text/latex": [
       "\\begin{enumerate*}\n",
       "\\item 'donor1\\_AAACCCACATCGAACT.1'\n",
       "\\item 'donor1\\_AAACCCATCCAACCAA.1'\n",
       "\\item 'donor1\\_AAACGAACAATGACCT.1'\n",
       "\\item 'donor1\\_AAACGAATCACGAGGA.1'\n",
       "\\item 'donor1\\_AAACGCTAGGTTGAGC.1'\n",
       "\\item 'donor1\\_AAACGCTCACTGCATA.1'\n",
       "\\end{enumerate*}\n"
      ],
      "text/markdown": [
       "1. 'donor1_AAACCCACATCGAACT.1'\n",
       "2. 'donor1_AAACCCATCCAACCAA.1'\n",
       "3. 'donor1_AAACGAACAATGACCT.1'\n",
       "4. 'donor1_AAACGAATCACGAGGA.1'\n",
       "5. 'donor1_AAACGCTAGGTTGAGC.1'\n",
       "6. 'donor1_AAACGCTCACTGCATA.1'\n",
       "\n",
       "\n"
      ],
      "text/plain": [
       "[1] \"donor1_AAACCCACATCGAACT.1\" \"donor1_AAACCCATCCAACCAA.1\"\n",
       "[3] \"donor1_AAACGAACAATGACCT.1\" \"donor1_AAACGAATCACGAGGA.1\"\n",
       "[5] \"donor1_AAACGCTAGGTTGAGC.1\" \"donor1_AAACGCTCACTGCATA.1\""
      ]
     },
     "metadata": {},
     "output_type": "display_data"
    }
   ],
   "source": [
    "## barcode for cells\n",
    "colData(sce.nac.tran) %>% dim()\n",
    "colData(sce.nac.tran) %>% colnames()\n",
    "colData(sce.nac.tran) %>% rownames() %>% head()"
   ]
  },
  {
   "cell_type": "code",
   "execution_count": 6,
   "id": "a4309e27-7232-448a-8922-ba097a39822b",
   "metadata": {
    "kernel": "R",
    "tags": []
   },
   "outputs": [
    {
     "data": {
      "text/html": [
       "<style>\n",
       ".list-inline {list-style: none; margin:0; padding: 0}\n",
       ".list-inline>li {display: inline-block}\n",
       ".list-inline>li:not(:last-child)::after {content: \"\\00b7\"; padding: 0 .5ex}\n",
       "</style>\n",
       "<ol class=list-inline><li>33538</li><li>36</li></ol>\n"
      ],
      "text/latex": [
       "\\begin{enumerate*}\n",
       "\\item 33538\n",
       "\\item 36\n",
       "\\end{enumerate*}\n"
      ],
      "text/markdown": [
       "1. 33538\n",
       "2. 36\n",
       "\n",
       "\n"
      ],
      "text/plain": [
       "[1] 33538    36"
      ]
     },
     "metadata": {},
     "output_type": "display_data"
    },
    {
     "data": {
      "text/html": [
       "<style>\n",
       ".list-inline {list-style: none; margin:0; padding: 0}\n",
       ".list-inline>li {display: inline-block}\n",
       ".list-inline>li:not(:last-child)::after {content: \"\\00b7\"; padding: 0 .5ex}\n",
       "</style>\n",
       "<ol class=list-inline><li>'gene_id'</li><li>'gene_version'</li><li>'gene_name'</li><li>'gene_source'</li><li>'gene_biotype'</li><li>'Symbol.uniq'</li><li>'propNucleiExprs'</li><li>'propExprsIn.Astro_A'</li><li>'propExprsIn.Astro_B'</li><li>'propExprsIn.drop.doublet_A'</li><li>'propExprsIn.drop.doublet_B'</li><li>'propExprsIn.drop.doublet_C'</li><li>'propExprsIn.drop.doublet_D'</li><li>'propExprsIn.drop.lowNTx'</li><li>'propExprsIn.Inhib_A'</li><li>'propExprsIn.Inhib_B'</li><li>'propExprsIn.Inhib_C'</li><li>'propExprsIn.Inhib_D'</li><li>'propExprsIn.Inhib_E'</li><li>'propExprsIn.Macrophage'</li><li>'propExprsIn.Micro'</li><li>'propExprsIn.Micro_resting'</li><li>'propExprsIn.MSN.D1_A'</li><li>'propExprsIn.MSN.D1_B'</li><li>'propExprsIn.MSN.D1_C'</li><li>'propExprsIn.MSN.D1_D'</li><li>'propExprsIn.MSN.D1_E'</li><li>'propExprsIn.MSN.D1_F'</li><li>'propExprsIn.MSN.D2_A'</li><li>'propExprsIn.MSN.D2_B'</li><li>'propExprsIn.MSN.D2_C'</li><li>'propExprsIn.MSN.D2_D'</li><li>'propExprsIn.Oligo_A'</li><li>'propExprsIn.Oligo_B'</li><li>'propExprsIn.OPC'</li><li>'propExprsIn.OPC_COP'</li></ol>\n"
      ],
      "text/latex": [
       "\\begin{enumerate*}\n",
       "\\item 'gene\\_id'\n",
       "\\item 'gene\\_version'\n",
       "\\item 'gene\\_name'\n",
       "\\item 'gene\\_source'\n",
       "\\item 'gene\\_biotype'\n",
       "\\item 'Symbol.uniq'\n",
       "\\item 'propNucleiExprs'\n",
       "\\item 'propExprsIn.Astro\\_A'\n",
       "\\item 'propExprsIn.Astro\\_B'\n",
       "\\item 'propExprsIn.drop.doublet\\_A'\n",
       "\\item 'propExprsIn.drop.doublet\\_B'\n",
       "\\item 'propExprsIn.drop.doublet\\_C'\n",
       "\\item 'propExprsIn.drop.doublet\\_D'\n",
       "\\item 'propExprsIn.drop.lowNTx'\n",
       "\\item 'propExprsIn.Inhib\\_A'\n",
       "\\item 'propExprsIn.Inhib\\_B'\n",
       "\\item 'propExprsIn.Inhib\\_C'\n",
       "\\item 'propExprsIn.Inhib\\_D'\n",
       "\\item 'propExprsIn.Inhib\\_E'\n",
       "\\item 'propExprsIn.Macrophage'\n",
       "\\item 'propExprsIn.Micro'\n",
       "\\item 'propExprsIn.Micro\\_resting'\n",
       "\\item 'propExprsIn.MSN.D1\\_A'\n",
       "\\item 'propExprsIn.MSN.D1\\_B'\n",
       "\\item 'propExprsIn.MSN.D1\\_C'\n",
       "\\item 'propExprsIn.MSN.D1\\_D'\n",
       "\\item 'propExprsIn.MSN.D1\\_E'\n",
       "\\item 'propExprsIn.MSN.D1\\_F'\n",
       "\\item 'propExprsIn.MSN.D2\\_A'\n",
       "\\item 'propExprsIn.MSN.D2\\_B'\n",
       "\\item 'propExprsIn.MSN.D2\\_C'\n",
       "\\item 'propExprsIn.MSN.D2\\_D'\n",
       "\\item 'propExprsIn.Oligo\\_A'\n",
       "\\item 'propExprsIn.Oligo\\_B'\n",
       "\\item 'propExprsIn.OPC'\n",
       "\\item 'propExprsIn.OPC\\_COP'\n",
       "\\end{enumerate*}\n"
      ],
      "text/markdown": [
       "1. 'gene_id'\n",
       "2. 'gene_version'\n",
       "3. 'gene_name'\n",
       "4. 'gene_source'\n",
       "5. 'gene_biotype'\n",
       "6. 'Symbol.uniq'\n",
       "7. 'propNucleiExprs'\n",
       "8. 'propExprsIn.Astro_A'\n",
       "9. 'propExprsIn.Astro_B'\n",
       "10. 'propExprsIn.drop.doublet_A'\n",
       "11. 'propExprsIn.drop.doublet_B'\n",
       "12. 'propExprsIn.drop.doublet_C'\n",
       "13. 'propExprsIn.drop.doublet_D'\n",
       "14. 'propExprsIn.drop.lowNTx'\n",
       "15. 'propExprsIn.Inhib_A'\n",
       "16. 'propExprsIn.Inhib_B'\n",
       "17. 'propExprsIn.Inhib_C'\n",
       "18. 'propExprsIn.Inhib_D'\n",
       "19. 'propExprsIn.Inhib_E'\n",
       "20. 'propExprsIn.Macrophage'\n",
       "21. 'propExprsIn.Micro'\n",
       "22. 'propExprsIn.Micro_resting'\n",
       "23. 'propExprsIn.MSN.D1_A'\n",
       "24. 'propExprsIn.MSN.D1_B'\n",
       "25. 'propExprsIn.MSN.D1_C'\n",
       "26. 'propExprsIn.MSN.D1_D'\n",
       "27. 'propExprsIn.MSN.D1_E'\n",
       "28. 'propExprsIn.MSN.D1_F'\n",
       "29. 'propExprsIn.MSN.D2_A'\n",
       "30. 'propExprsIn.MSN.D2_B'\n",
       "31. 'propExprsIn.MSN.D2_C'\n",
       "32. 'propExprsIn.MSN.D2_D'\n",
       "33. 'propExprsIn.Oligo_A'\n",
       "34. 'propExprsIn.Oligo_B'\n",
       "35. 'propExprsIn.OPC'\n",
       "36. 'propExprsIn.OPC_COP'\n",
       "\n",
       "\n"
      ],
      "text/plain": [
       " [1] \"gene_id\"                    \"gene_version\"              \n",
       " [3] \"gene_name\"                  \"gene_source\"               \n",
       " [5] \"gene_biotype\"               \"Symbol.uniq\"               \n",
       " [7] \"propNucleiExprs\"            \"propExprsIn.Astro_A\"       \n",
       " [9] \"propExprsIn.Astro_B\"        \"propExprsIn.drop.doublet_A\"\n",
       "[11] \"propExprsIn.drop.doublet_B\" \"propExprsIn.drop.doublet_C\"\n",
       "[13] \"propExprsIn.drop.doublet_D\" \"propExprsIn.drop.lowNTx\"   \n",
       "[15] \"propExprsIn.Inhib_A\"        \"propExprsIn.Inhib_B\"       \n",
       "[17] \"propExprsIn.Inhib_C\"        \"propExprsIn.Inhib_D\"       \n",
       "[19] \"propExprsIn.Inhib_E\"        \"propExprsIn.Macrophage\"    \n",
       "[21] \"propExprsIn.Micro\"          \"propExprsIn.Micro_resting\" \n",
       "[23] \"propExprsIn.MSN.D1_A\"       \"propExprsIn.MSN.D1_B\"      \n",
       "[25] \"propExprsIn.MSN.D1_C\"       \"propExprsIn.MSN.D1_D\"      \n",
       "[27] \"propExprsIn.MSN.D1_E\"       \"propExprsIn.MSN.D1_F\"      \n",
       "[29] \"propExprsIn.MSN.D2_A\"       \"propExprsIn.MSN.D2_B\"      \n",
       "[31] \"propExprsIn.MSN.D2_C\"       \"propExprsIn.MSN.D2_D\"      \n",
       "[33] \"propExprsIn.Oligo_A\"        \"propExprsIn.Oligo_B\"       \n",
       "[35] \"propExprsIn.OPC\"            \"propExprsIn.OPC_COP\"       "
      ]
     },
     "metadata": {},
     "output_type": "display_data"
    },
    {
     "data": {
      "text/html": [
       "<style>\n",
       ".list-inline {list-style: none; margin:0; padding: 0}\n",
       ".list-inline>li {display: inline-block}\n",
       ".list-inline>li:not(:last-child)::after {content: \"\\00b7\"; padding: 0 .5ex}\n",
       "</style>\n",
       "<ol class=list-inline><li>'MIR1302-2HG'</li><li>'FAM138A'</li><li>'OR4F5'</li><li>'AL627309.1'</li><li>'AL627309.3'</li><li>'AL627309.2'</li></ol>\n"
      ],
      "text/latex": [
       "\\begin{enumerate*}\n",
       "\\item 'MIR1302-2HG'\n",
       "\\item 'FAM138A'\n",
       "\\item 'OR4F5'\n",
       "\\item 'AL627309.1'\n",
       "\\item 'AL627309.3'\n",
       "\\item 'AL627309.2'\n",
       "\\end{enumerate*}\n"
      ],
      "text/markdown": [
       "1. 'MIR1302-2HG'\n",
       "2. 'FAM138A'\n",
       "3. 'OR4F5'\n",
       "4. 'AL627309.1'\n",
       "5. 'AL627309.3'\n",
       "6. 'AL627309.2'\n",
       "\n",
       "\n"
      ],
      "text/plain": [
       "[1] \"MIR1302-2HG\" \"FAM138A\"     \"OR4F5\"       \"AL627309.1\"  \"AL627309.3\" \n",
       "[6] \"AL627309.2\" "
      ]
     },
     "metadata": {},
     "output_type": "display_data"
    }
   ],
   "source": [
    "## gene names\n",
    "rowData(sce.nac.tran) %>% dim()\n",
    "rowData(sce.nac.tran) %>% colnames()\n",
    "rowData(sce.nac.tran) %>% rownames() %>% head()"
   ]
  },
  {
   "cell_type": "code",
   "execution_count": 25,
   "id": "f7c1b036-becd-4f78-80b3-55b3c15cab37",
   "metadata": {
    "kernel": "R",
    "tags": []
   },
   "outputs": [
    {
     "data": {
      "text/html": [
       "<style>\n",
       ".list-inline {list-style: none; margin:0; padding: 0}\n",
       ".list-inline>li {display: inline-block}\n",
       ".list-inline>li:not(:last-child)::after {content: \"\\00b7\"; padding: 0 .5ex}\n",
       "</style>\n",
       "<ol class=list-inline><li>'counts'</li><li>'logcounts'</li></ol>\n"
      ],
      "text/latex": [
       "\\begin{enumerate*}\n",
       "\\item 'counts'\n",
       "\\item 'logcounts'\n",
       "\\end{enumerate*}\n"
      ],
      "text/markdown": [
       "1. 'counts'\n",
       "2. 'logcounts'\n",
       "\n",
       "\n"
      ],
      "text/plain": [
       "[1] \"counts\"    \"logcounts\""
      ]
     },
     "metadata": {},
     "output_type": "display_data"
    }
   ],
   "source": [
    "# single cell expression matrix\n",
    "assayNames(sce.nac.tran)"
   ]
  },
  {
   "cell_type": "code",
   "execution_count": 35,
   "id": "a23e6010-c3fb-4123-b2b8-4ad101a76c7d",
   "metadata": {
    "kernel": "R",
    "tags": []
   },
   "outputs": [
    {
     "name": "stderr",
     "output_type": "stream",
     "text": [
      "  [[ suppressing 34 column names ‘donor1_AAACCCACATCGAACT.1’, ‘donor1_AAACCCATCCAACCAA.1’, ‘donor1_AAACGAACAATGACCT.1’ ... ]]\n",
      "\n"
     ]
    },
    {
     "data": {
      "text/plain": [
       "6 x 20571 sparse Matrix of class \"dgCMatrix\"\n",
       "                                                                               \n",
       "MIR1302-2HG . . . . . . . . . . . . . . . . . . . . .         . .         . . .\n",
       "FAM138A     . . . . . . . . . . . . . . . . . . . . .         . .         . . .\n",
       "OR4F5       . . . . . . . . . . . . . . . . . . . . .         . .         . . .\n",
       "AL627309.1  . . . . . . . . . . . . . . . . . . . . 0.1875968 . 0.6843966 . . .\n",
       "AL627309.3  . . . . . . . . . . . . . . . . . . . . .         . .         . . .\n",
       "AL627309.2  . . . . . . . . . . . . . . . . . . . . .         . .         . . .\n",
       "                                          \n",
       "MIR1302-2HG . . .         . . . . . ......\n",
       "FAM138A     . . .         . . . . . ......\n",
       "OR4F5       . . .         . . . . . ......\n",
       "AL627309.1  . . 0.9035047 . . . . . ......\n",
       "AL627309.3  . . .         . . . . . ......\n",
       "AL627309.2  . . .         . . . . . ......\n",
       "\n",
       " .....suppressing 20537 columns in show(); maybe adjust options(max.print=, width=)\n",
       " .............................."
      ]
     },
     "metadata": {},
     "output_type": "display_data"
    }
   ],
   "source": [
    "assay(sce.nac.tran, \"logcounts\") %>% head()"
   ]
  },
  {
   "cell_type": "markdown",
   "id": "b0622045-c5cf-46af-ba49-3f33e3a2a61a",
   "metadata": {
    "kernel": "R"
   },
   "source": [
    "## 3. Sigature Matrix Generation for NAc region\n",
    "\n",
    "The code is adapted from: https://github.com/PelzKo/dwls/blob/master/R/functions.R based on `buildSignatureMatrixUsingSeurat` and `DEAnalysis` functions."
   ]
  },
  {
   "cell_type": "code",
   "execution_count": 63,
   "id": "b12a575b-e724-4a66-b27b-1e41c389e79a",
   "metadata": {
    "kernel": "R",
    "tags": []
   },
   "outputs": [],
   "source": [
    "## Performing DE analysis using Seurat\n",
    "##\n",
    "## scdata: The single cell data matrix\n",
    "## cell_types: A vector of the cell type annotations\n",
    "##\n",
    "## return: List with the differentially expressed genes for each cell type\n",
    "\n",
    "DEAnalysis <- function(scdata, cell_types) {\n",
    "    list.DE.group <- as.list(rep(0, length(cell_types)))\n",
    "    for (c in cell_types) {\n",
    "        de_group <- Seurat::FindMarkers(object = scdata,\n",
    "                                        ident.1 = c,\n",
    "                                        ident.2 = NULL,\n",
    "                                        only.pos = TRUE,\n",
    "                                        test.use = \"bimod\")\n",
    "\n",
    "        index <- which(cell_types == c)\n",
    "        list.DE.group[[index]] <- de_group\n",
    "    }\n",
    "    \n",
    "    return(list.DE.group)\n",
    "}"
   ]
  },
  {
   "cell_type": "code",
   "execution_count": 64,
   "id": "a8e76e2f-3a6a-4bf9-bd24-5f3b7f027329",
   "metadata": {
    "kernel": "R",
    "tags": []
   },
   "outputs": [],
   "source": [
    "## Building the signature matrix using Seurat\n",
    "##\n",
    "## scdata: The single cell data matrix\n",
    "## cell_types: A vector of the cell type annotations\n",
    "## diff.cutoff: The FC cutoff\n",
    "## pval.cutoff: The p-value cutoff\n",
    "##\n",
    "## return: Computed signature matrix\n",
    "\n",
    "buildSignatureMatrixUsingSeurat <- function(scdata,\n",
    "                                            cell_types,\n",
    "                                            diff.cutoff = 0.5,\n",
    "                                            pval.cutoff = 0.01){\n",
    "    # perform differential expression analysis\n",
    "    list.DE.groups <- DEAnalysis(scdata, cell_types)\n",
    "    \n",
    "    num_genes <- c()\n",
    "    for (c in cell_types) {\n",
    "        index <- which(cell_types == c)\n",
    "        de_group <- list.DE.group[[index]]\n",
    "\n",
    "        DEGenes <- rownames(de_group)[intersect(\n",
    "            which(de_group$p_val_adj < pval.cutoff),\n",
    "            which(de_group$avg_log2FC > diff.cutoff)\n",
    "          )]\n",
    "\n",
    "        ## why removing those genes ?\n",
    "        nonMir <- grep(\"MIR|Mir\", DEGenes, invert = TRUE)\n",
    "        assign(\n",
    "          paste(\"cluster_lrTest.table.\", c, sep = \"\"),\n",
    "          de_group[which(rownames(de_group) %in% DEGenes[nonMir]), ]\n",
    "        )\n",
    "        num_genes <- c(num_genes, length(DEGenes[nonMir]))\n",
    "    }\n",
    "    \n",
    "    conditionNumbers <- c()\n",
    "    for (g in 50:200) {\n",
    "        Genes <- c()\n",
    "        j <- 1\n",
    "        for (i in cell_types) {\n",
    "          if (num_genes[j] > 0) {\n",
    "            temp <- paste(\"cluster_lrTest.table.\", i, sep = \"\")\n",
    "            temp <- get(temp)\n",
    "            temp <- temp[order(temp$p_val_adj, decreasing = TRUE), ]\n",
    "            Genes <-\n",
    "              c(Genes, (rownames(temp)[1:min(g, num_genes[j])]))\n",
    "          }\n",
    "          j <- j + 1\n",
    "        }\n",
    "\n",
    "        ## gene names with ENSG are formatted differently \n",
    "        ## when converting SCE object to Seurat object\n",
    "        Genes <- unique(Genes)\n",
    "        Genes <- gsub(\"-ENSG\", \"_ENSG\", Genes)\n",
    "\n",
    "        ## make signature matrix\n",
    "        ExprSubset <- scdata_nac_mat[Genes, , drop = FALSE]\n",
    "        Sig <- NULL\n",
    "        for (i in as.list(cell_types)) {\n",
    "          Sig <-\n",
    "            cbind(Sig, (apply(ExprSubset, 1, function(y) {\n",
    "              mean(y[names(y) == i])\n",
    "            })))\n",
    "        }\n",
    "        colnames(Sig) <- cell_types\n",
    "        conditionNumbers <- c(conditionNumbers, kappa(Sig))\n",
    "    }\n",
    "    \n",
    "    # g is optimal gene number\n",
    "    g <- which.min(conditionNumbers) + min(49, num_genes - 1)\n",
    "    Genes <- c()\n",
    "    j <- 1\n",
    "    for (i in cell_types) {\n",
    "        if (num_genes[j] > 0) {\n",
    "          temp <- paste(\"cluster_lrTest.table.\", i, sep = \"\")\n",
    "          temp <- get(temp)\n",
    "          temp <- temp[order(temp$p_val_adj, decreasing = TRUE), ]\n",
    "          Genes <-\n",
    "            c(Genes, (rownames(temp)[1:min(g, num_genes[j])]))\n",
    "        }\n",
    "        j <- j + 1\n",
    "    }\n",
    "\n",
    "    Genes <- unique(Genes)\n",
    "    Genes <- gsub(\"-ENSG\", \"_ENSG\", Genes)\n",
    "    ExprSubset <- scdata_nac_mat[Genes, , drop = FALSE]\n",
    "    Sig <- NULL\n",
    "    for (i in as.list(cell_types)) {\n",
    "      Sig <-\n",
    "        cbind(Sig, (apply(ExprSubset, 1, function(y) {\n",
    "          mean(y[names(y) == i])\n",
    "        })))\n",
    "    }\n",
    "\n",
    "    colnames(Sig) <- cell_types\n",
    "    rownames(Sig) <- Genes\n",
    "    \n",
    "    return(Sig)\n",
    "}"
   ]
  },
  {
   "cell_type": "code",
   "execution_count": 65,
   "id": "97c39512-c5ba-4ee5-99ca-84b6a45574ac",
   "metadata": {
    "kernel": "R"
   },
   "outputs": [
    {
     "name": "stderr",
     "output_type": "stream",
     "text": [
      "Warning message:\n",
      "“Feature names cannot have underscores ('_'), replacing with dashes ('-')”\n",
      "Warning message:\n",
      "“Feature names cannot have underscores ('_'), replacing with dashes ('-')”\n",
      "Warning message:\n",
      "“Feature names cannot have underscores ('_'), replacing with dashes ('-')”\n",
      "Warning message:\n",
      "“Keys should be one or more alphanumeric characters followed by an underscore, setting key from PCA_corrected_ to PCAcorrected_”\n",
      "Warning message:\n",
      "“Keys should be one or more alphanumeric characters followed by an underscore, setting key from PCA_opt_ to PCAopt_”\n"
     ]
    }
   ],
   "source": [
    "# convert SCE to Seurat object\n",
    "scdata_nac <- as.Seurat(sce.nac.tran)\n",
    "\n",
    "# set cell types\n",
    "Idents(scdata_nac) <- scdata_nac@meta.data$cellType\n",
    "cell_types <- scdata_nac@meta.data$cellType %>% unique() %>% as.character()\n",
    "\n",
    "# retrieve expression matrix\n",
    "scdata_nac_mat <- GetAssayData(scdata_nac, assay = \"originalexp\", slot = \"data\")\n",
    "colnames(scdata_nac_mat) <- scdata_nac@meta.data$cellType"
   ]
  },
  {
   "cell_type": "code",
   "execution_count": 70,
   "id": "6e69adc2-2af5-4ece-9756-20957a286915",
   "metadata": {
    "kernel": "R",
    "tags": []
   },
   "outputs": [],
   "source": [
    "sigmat <- buildSignatureMatrixUsingSeurat(scdata_nac, cell_types)"
   ]
  },
  {
   "cell_type": "code",
   "execution_count": null,
   "id": "731b0185-7722-425c-afba-88e71f5c378e",
   "metadata": {
    "kernel": "R"
   },
   "outputs": [],
   "source": []
  }
 ],
 "metadata": {
  "kernelspec": {
   "display_name": "SoS",
   "language": "sos",
   "name": "sos"
  },
  "language_info": {
   "codemirror_mode": "sos",
   "file_extension": ".sos",
   "mimetype": "text/x-sos",
   "name": "sos",
   "nbconvert_exporter": "sos_notebook.converter.SoS_Exporter",
   "pygments_lexer": "sos"
  },
  "sos": {
   "kernels": [
    [
     "Bash",
     "calysto_bash",
     "Bash",
     "#E6EEFF",
     "shell"
    ],
    [
     "R",
     "ir",
     "R",
     "#DCDCDA",
     "r"
    ]
   ],
   "version": "0.24.3"
  }
 },
 "nbformat": 4,
 "nbformat_minor": 5
}
